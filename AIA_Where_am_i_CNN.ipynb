{
 "cells": [
  {
   "cell_type": "code",
   "execution_count": 1,
   "metadata": {},
   "outputs": [
    {
     "name": "stderr",
     "output_type": "stream",
     "text": [
      "Using TensorFlow backend.\n"
     ]
    }
   ],
   "source": [
    "import numpy as np\n",
    "import pandas as pd\n",
    "from keras.utils import np_utils\n",
    "from tqdm import tqdm\n",
    "from sklearn.utils import shuffle\n",
    "from sklearn.model_selection import train_test_split\n",
    "import cv2"
   ]
  },
  {
   "cell_type": "code",
   "execution_count": 2,
   "metadata": {},
   "outputs": [],
   "source": [
    "import matplotlib.pyplot as plt\n",
    "def plot_images_labels_predict(images, labels, prediction, idx, num=10):  \n",
    "    fig = plt.gcf()  \n",
    "    fig.set_size_inches(12, 14)\n",
    "    if num > 25: num = 25  \n",
    "    for i in range(0, num):  \n",
    "        ax=plt.subplot(5,5, 1+i)  \n",
    "        ax.imshow(images[idx], cmap='binary')  \n",
    "        title = \"lable=\" + str(labels[idx])  \n",
    "        if len(prediction) > 0:  \n",
    "            title = \"lable={},prediction={}\".format(str(labels[idx]), str(prediction[idx]))  \n",
    "        else:  \n",
    "            title = \"lable={}\".format(str(labels[idx])) \n",
    "        ax.set_title(title, fontsize=10)  \n",
    "        ax.set_xticks([]); ax.set_yticks([])\n",
    "        idx+=1\n",
    "    plt.show()"
   ]
  },
  {
   "cell_type": "code",
   "execution_count": 3,
   "metadata": {
    "scrolled": true
   },
   "outputs": [
    {
     "data": {
      "text/html": [
       "<div>\n",
       "<table border=\"1\" class=\"dataframe\">\n",
       "  <thead>\n",
       "    <tr style=\"text-align: right;\">\n",
       "      <th></th>\n",
       "      <th>folder_name</th>\n",
       "      <th>label</th>\n",
       "    </tr>\n",
       "  </thead>\n",
       "  <tbody>\n",
       "    <tr>\n",
       "      <th>10</th>\n",
       "      <td>mountain</td>\n",
       "      <td>8</td>\n",
       "    </tr>\n",
       "    <tr>\n",
       "      <th>14</th>\n",
       "      <td>tallbuilding</td>\n",
       "      <td>13</td>\n",
       "    </tr>\n",
       "    <tr>\n",
       "      <th>9</th>\n",
       "      <td>livingroom</td>\n",
       "      <td>5</td>\n",
       "    </tr>\n",
       "    <tr>\n",
       "      <th>5</th>\n",
       "      <td>highway</td>\n",
       "      <td>14</td>\n",
       "    </tr>\n",
       "    <tr>\n",
       "      <th>3</th>\n",
       "      <td>coast</td>\n",
       "      <td>10</td>\n",
       "    </tr>\n",
       "  </tbody>\n",
       "</table>\n",
       "</div>"
      ],
      "text/plain": [
       "     folder_name  label\n",
       "10      mountain      8\n",
       "14  tallbuilding     13\n",
       "9     livingroom      5\n",
       "5        highway     14\n",
       "3          coast     10"
      ]
     },
     "execution_count": 3,
     "metadata": {},
     "output_type": "execute_result"
    }
   ],
   "source": [
    "mapping_df = pd.read_csv('//data/examples/may_the_4_be_with_u/where_am_i/mid_term_mapping.txt' ,header=None)\n",
    "mapping_df.columns = ['folder_name', 'label']\n",
    "mapping_df.sample(5)"
   ]
  },
  {
   "cell_type": "code",
   "execution_count": 4,
   "metadata": {},
   "outputs": [
    {
     "name": "stdout",
     "output_type": "stream",
     "text": [
      "1500\n"
     ]
    }
   ],
   "source": [
    "test_submit_df = pd.read_csv('//data/examples/may_the_4_be_with_u/where_am_i/img-submission.csv')\n",
    "#test_submit_df.columns = ['file_name', 'label']\n",
    "print(len(test_submit_df))"
   ]
  },
  {
   "cell_type": "code",
   "execution_count": 5,
   "metadata": {},
   "outputs": [
    {
     "data": {
      "text/html": [
       "<div>\n",
       "<table border=\"1\" class=\"dataframe\">\n",
       "  <thead>\n",
       "    <tr style=\"text-align: right;\">\n",
       "      <th></th>\n",
       "      <th>folder_name</th>\n",
       "      <th>label</th>\n",
       "      <th>path</th>\n",
       "    </tr>\n",
       "  </thead>\n",
       "  <tbody>\n",
       "    <tr>\n",
       "      <th>131</th>\n",
       "      <td>CALsuburb</td>\n",
       "      <td>9.0</td>\n",
       "      <td>//data/examples/may_the_4_be_with_u/where_am_i...</td>\n",
       "    </tr>\n",
       "    <tr>\n",
       "      <th>496</th>\n",
       "      <td>coast</td>\n",
       "      <td>10.0</td>\n",
       "      <td>//data/examples/may_the_4_be_with_u/where_am_i...</td>\n",
       "    </tr>\n",
       "    <tr>\n",
       "      <th>473</th>\n",
       "      <td>coast</td>\n",
       "      <td>10.0</td>\n",
       "      <td>//data/examples/may_the_4_be_with_u/where_am_i...</td>\n",
       "    </tr>\n",
       "    <tr>\n",
       "      <th>435</th>\n",
       "      <td>coast</td>\n",
       "      <td>10.0</td>\n",
       "      <td>//data/examples/may_the_4_be_with_u/where_am_i...</td>\n",
       "    </tr>\n",
       "    <tr>\n",
       "      <th>2279</th>\n",
       "      <td>opencountry</td>\n",
       "      <td>6.0</td>\n",
       "      <td>//data/examples/may_the_4_be_with_u/where_am_i...</td>\n",
       "    </tr>\n",
       "  </tbody>\n",
       "</table>\n",
       "</div>"
      ],
      "text/plain": [
       "      folder_name  label                                               path\n",
       "131     CALsuburb    9.0  //data/examples/may_the_4_be_with_u/where_am_i...\n",
       "496         coast   10.0  //data/examples/may_the_4_be_with_u/where_am_i...\n",
       "473         coast   10.0  //data/examples/may_the_4_be_with_u/where_am_i...\n",
       "435         coast   10.0  //data/examples/may_the_4_be_with_u/where_am_i...\n",
       "2279  opencountry    6.0  //data/examples/may_the_4_be_with_u/where_am_i..."
      ]
     },
     "execution_count": 5,
     "metadata": {},
     "output_type": "execute_result"
    }
   ],
   "source": [
    "import os\n",
    "image_mapping_path_df = pd.DataFrame(columns=['folder_name', 'label', 'path'])\n",
    "path = \"//data/examples/may_the_4_be_with_u/where_am_i/\"\n",
    "pathData = []\n",
    "for x in range(0, len(mapping_df['folder_name'])):\n",
    "    folder_name = mapping_df['folder_name'][x]\n",
    "    label = mapping_df['label'][x]\n",
    "    class_folder = path + \"train/\" + folder_name\n",
    "    for train_imgName in os.listdir(class_folder):\n",
    "        train_data_path = class_folder + \"/\" + train_imgName\n",
    "        s = pd.DataFrame([[folder_name, label, train_data_path]],columns=['folder_name', 'label', 'path'])\n",
    "        image_mapping_path_df = image_mapping_path_df.append(s, ignore_index=True)\n",
    "image_mapping_path_df.sample(5)"
   ]
  },
  {
   "cell_type": "code",
   "execution_count": 6,
   "metadata": {},
   "outputs": [
    {
     "name": "stdout",
     "output_type": "stream",
     "text": [
      "\t[Info] Shape of train data=(2985, 16, 16)\n",
      "\t[Info] Shape of train label=(2985,)\n"
     ]
    }
   ],
   "source": [
    "image_width = 16\n",
    "image_high = 16\n",
    "image_cnn_shape = (image_width//4) * (image_high//4)\n",
    "image = cv2.imread(image_mapping_path_df[\"path\"][0])\n",
    "image = cv2.resize(image, (image_width, image_high))\n",
    "image = cv2.cvtColor(image, cv2.COLOR_BGR2GRAY)\n",
    "#train = np.reshape(image, (32, 32))\n",
    "train = np.expand_dims(image, axis=0)\n",
    "#train = np.reshape(image, (1, 262, 200))\n",
    "train_label = np.zeros(0, dtype=float)\n",
    "train_label = np.append(train_label, image_mapping_path_df[\"label\"][0])\n",
    "for x in range(1, len(image_mapping_path_df)):\n",
    "    path = image_mapping_path_df[\"path\"][x]\n",
    "    label = image_mapping_path_df[\"label\"][x]\n",
    "    image = cv2.imread(path)\n",
    "    image = cv2.resize(image, (image_width, image_high))\n",
    "    image = cv2.cvtColor(image, cv2.COLOR_BGR2GRAY)\n",
    "    #train = np.reshape(image, (32, 32))\n",
    "    image = np.expand_dims(image, axis=0)\n",
    "    train = np.concatenate((train,image), axis=0)\n",
    "    train_label = np.append(train_label, label)\n",
    "\n",
    "print(\"\\t[Info] Shape of train data=%s\" % (str(train.shape)))\n",
    "print(\"\\t[Info] Shape of train label=%s\" % (str(train_label.shape)))"
   ]
  },
  {
   "cell_type": "code",
   "execution_count": 7,
   "metadata": {},
   "outputs": [
    {
     "name": "stdout",
     "output_type": "stream",
     "text": [
      "\t[Info] Shape of test data=(1500, 16, 16)\n",
      "\t[Info] Shape of test_label=(0,)\n"
     ]
    }
   ],
   "source": [
    "path = \"//data/examples/may_the_4_be_with_u/where_am_i/\"\n",
    "test_path = path + \"testset/\"\n",
    "image = cv2.imread(test_path + test_submit_df[\"id\"][0] + \".jpg\")\n",
    "image = cv2.resize(image, (image_width, image_high))\n",
    "image = cv2.cvtColor(image, cv2.COLOR_BGR2GRAY)\n",
    "test = np.expand_dims(image, axis=0)\n",
    "for x in range(1, len(test_submit_df)):\n",
    "    path = test_path + test_submit_df[\"id\"][x] + \".jpg\"\n",
    "    image = cv2.imread(path)\n",
    "    image = cv2.resize(image, (image_width, image_high))\n",
    "    image = cv2.cvtColor(image, cv2.COLOR_BGR2GRAY)\n",
    "    image = np.expand_dims(image, axis=0)\n",
    "    test = np.concatenate((test,image), axis=0)\n",
    "    \n",
    "test_label = np.zeros(0, dtype=float)\n",
    "\n",
    "print(\"\\t[Info] Shape of test data=%s\" % (str(test.shape)))\n",
    "print(\"\\t[Info] Shape of test_label=%s\" % (str(test_label.shape)))"
   ]
  },
  {
   "cell_type": "code",
   "execution_count": 8,
   "metadata": {},
   "outputs": [
    {
     "data": {
      "image/png": "[encoded data removed]",
      "text/plain": [
       "<matplotlib.figure.Figure at 0x7fc048929748>"
      ]
     },
     "metadata": {},
     "output_type": "display_data"
    }
   ],
   "source": [
    "plot_images_labels_predict(train, train_label, [], 0)"
   ]
  },
  {
   "cell_type": "code",
   "execution_count": 9,
   "metadata": {},
   "outputs": [
    {
     "name": "stdout",
     "output_type": "stream",
     "text": [
      "\t[Info] xTrain: (2985, 256)\n",
      "\t[Info] xTest: (1500, 256)\n"
     ]
    }
   ],
   "source": [
    "train = train.reshape(2985, image_width*image_high).astype('float32')\n",
    "test = test.reshape(1500, image_width*image_high).astype('float32')\n",
    "print(\"\\t[Info] xTrain: %s\" % (str(train.shape)))\n",
    "print(\"\\t[Info] xTest: %s\" % (str(test.shape)))"
   ]
  },
  {
   "cell_type": "code",
   "execution_count": 10,
   "metadata": {},
   "outputs": [
    {
     "name": "stdout",
     "output_type": "stream",
     "text": [
      "9.0\n"
     ]
    },
    {
     "data": {
      "text/plain": [
       "array([[ 0.,  0.,  0.,  0.,  0.,  0.,  0.,  0.,  0.,  1.,  0.,  0.,  0.,\n",
       "         0.,  0.]])"
      ]
     },
     "execution_count": 10,
     "metadata": {},
     "output_type": "execute_result"
    }
   ],
   "source": [
    "y_TrainOneHot = np_utils.to_categorical(train_label) # 將 training 的 label 進行 one-hot encoding\n",
    "\n",
    "print(train_label[0]) # 檢視 training labels 第一個 label 的值\n",
    "y_TrainOneHot[:1] # 檢視第一個 label 在 one-hot encoding 後的結果, 會在第10個位置上為 1, 其他位置上為 0"
   ]
  },
  {
   "cell_type": "code",
   "execution_count": 11,
   "metadata": {},
   "outputs": [
    {
     "name": "stdout",
     "output_type": "stream",
     "text": [
      "training set: 2686\n",
      "test set: 299\n",
      "validation set: 299\n"
     ]
    }
   ],
   "source": [
    "#----------------------------資料training set, testing set 分割---------------------------------------\n",
    "x_train, x_test, y_train, y_test = train_test_split(train,\n",
    "                                                    y_TrainOneHot,\n",
    "                                                    test_size = 0.1,\n",
    "                                                    stratify  = train_label)\n",
    "#資料training set, validation set 分割\n",
    "train_ratio = 0.9\n",
    "x_train, x_valid, y_train, y_valid = train_test_split(train,\n",
    "                                                      y_TrainOneHot,\n",
    "                                                      test_size = 1.0 - train_ratio,\n",
    "                                                      stratify = y_TrainOneHot.argmax(axis = 1))\n",
    "print(\"training set: %i\" % len(x_train))\n",
    "print(\"test set: %i\" % len(x_test))\n",
    "print(\"validation set: %i\" % len(x_valid))"
   ]
  },
  {
   "cell_type": "code",
   "execution_count": 14,
   "metadata": {},
   "outputs": [],
   "source": [
    "from __future__ import print_function\n",
    "import tensorflow as tf\n",
    "\n",
    "batch_size = 32\n",
    "epochs = 400\n",
    "lr = 0.0001\n",
    "\n",
    "#def compute_accuracy(v_xs, v_ys):\n",
    "#    global prediction\n",
    "#    y_pre = sess.run(prediction, feed_dict={xs: v_xs, keep_prob: 1})\n",
    "#    correct_prediction = tf.equal(tf.argmax(y_pre,1), tf.argmax(v_ys,1))\n",
    "#    accuracy = tf.reduce_mean(tf.cast(correct_prediction, tf.float32))\n",
    "#    result = sess.run(accuracy, feed_dict={xs: v_xs, ys: v_ys, keep_prob: 1})\n",
    "#    return result\n",
    "\n",
    "def weight_variable(shape):\n",
    "    initial = tf.truncated_normal(shape, stddev=0.1)\n",
    "    return tf.Variable(initial)\n",
    "\n",
    "def bias_variable(shape):\n",
    "    initial = tf.constant(0.1, shape=shape)\n",
    "    return tf.Variable(initial)\n",
    "\n",
    "def conv2d(x, W):\n",
    "    # stride [1, x_movement, y_movement, 1]\n",
    "    # Must have strides[0] = strides[3] = 1\n",
    "    return tf.nn.conv2d(x, W, strides=[1, 1, 1, 1], padding='SAME')\n",
    "\n",
    "def max_pool_2x2(x):\n",
    "    # stride [1, x_movement, y_movement, 1]\n",
    "    return tf.nn.max_pool(x, ksize=[1,2,2,1], strides=[1,2,2,1], padding='SAME')\n",
    "\n",
    "# define placeholder for inputs to network\n",
    "xs = tf.placeholder(tf.float32, [None, image_width*image_high])/255.   # 200*256\n",
    "ys = tf.placeholder(tf.float32, [None, 15])\n",
    "keep_prob = tf.placeholder(tf.float32)\n",
    "x_image = tf.reshape(xs, [-1, image_width, image_high, 1])\n",
    "# print(x_image.shape)  # [n_samples, 256,200,1]\n",
    "\n",
    "## conv1 layer ##\n",
    "W_conv1 = weight_variable([5,5, 1,32]) # patch 5x5, in size 1, out size 32\n",
    "b_conv1 = bias_variable([32])\n",
    "h_conv1 = tf.nn.relu(conv2d(x_image, W_conv1) + b_conv1) # output size 200x256x32\n",
    "h_pool1 = max_pool_2x2(h_conv1)                          # output size 100x128x32\n",
    "\n",
    "## conv2 layer ##\n",
    "W_conv2 = weight_variable([5,5, 32, 64]) # patch 5x5, in size 32, out size 64\n",
    "b_conv2 = bias_variable([64])\n",
    "h_conv2 = tf.nn.relu(conv2d(h_pool1, W_conv2) + b_conv2) # output size 100x128x64\n",
    "h_pool2 = max_pool_2x2(h_conv2)                          # output size 50x64x64\n",
    "\n",
    "## fc1 layer ##\n",
    "W_fc1 = weight_variable([image_cnn_shape*64, 1024])\n",
    "b_fc1 = bias_variable([1024])\n",
    "# [n_samples, 50, 64, 64] ->> [n_samples, 50*64*64]\n",
    "h_pool2_flat = tf.reshape(h_pool2, [-1, image_cnn_shape*64])\n",
    "h_fc1 = tf.nn.relu(tf.matmul(h_pool2_flat, W_fc1) + b_fc1)\n",
    "h_fc1_drop = tf.nn.dropout(h_fc1, keep_prob)\n",
    "\n",
    "## fc2 layer ##\n",
    "W_fc2 = weight_variable([1024, 15])\n",
    "b_fc2 = bias_variable([15])\n",
    "output = tf.matmul(h_fc1_drop, W_fc2) + b_fc2\n",
    "\n",
    "\n",
    "# the error between prediction and real data\n",
    "#cross_entropy = tf.reduce_mean(-tf.reduce_sum(ys * tf.log(prediction), reduction_indices=[1]))       # loss\n",
    "#train_step = tf.train.AdamOptimizer(learning_rate=lr).minimize(cross_entropy)\n",
    "\n",
    "with tf.name_scope('cross_entropy'):\n",
    "    loss = tf.reduce_mean(tf.nn.softmax_cross_entropy_with_logits(logits=output, labels=ys))\n",
    "\n",
    "with tf.name_scope('accuracy'):\n",
    "    correct_prediction = tf.equal(tf.argmax(tf.nn.softmax(output),1), tf.argmax(ys,1)) #如果答案對則回傳true\n",
    "    compute_acc = tf.reduce_mean(tf.cast(correct_prediction, tf.float32)) #將回傳的true/false轉乘1/0並計算平均(計算正確率)\n",
    "\n",
    "with tf.name_scope('train'):\n",
    "    #使用adam做optimization最小化loss funciotn(不斷取微分並逼近local min)\n",
    "    train_step = tf.train.AdamOptimizer(learning_rate=lr).minimize(loss)"
   ]
  },
  {
   "cell_type": "code",
   "execution_count": 15,
   "metadata": {},
   "outputs": [
    {
     "name": "stderr",
     "output_type": "stream",
     "text": [
      "100%|██████████| 400/400 [02:11<00:00,  3.04it/s]\n"
     ]
    },
    {
     "name": "stdout",
     "output_type": "stream",
     "text": [
      "--- training done ---\n",
      "testing accuracy: 0.92\n",
      "loss\n"
     ]
    },
    {
     "data": {
      "image/png": "[encoded data removed]",
      "text/plain": [
       "<matplotlib.figure.Figure at 0x7fc03007ec18>"
      ]
     },
     "metadata": {},
     "output_type": "display_data"
    },
    {
     "name": "stdout",
     "output_type": "stream",
     "text": [
      "accuracy\n"
     ]
    },
    {
     "data": {
      "image/png": "[encoded data removed]",
      "text/plain": [
       "<matplotlib.figure.Figure at 0x7fc02ab0f710>"
      ]
     },
     "metadata": {},
     "output_type": "display_data"
    }
   ],
   "source": [
    "train_loss_list, valid_loss_list = [], []\n",
    "train_acc_list, valid_acc_list = [], []\n",
    "\n",
    "sess = tf.Session()\n",
    "# important step\n",
    "# tf.initialize_all_variables() no long valid from\n",
    "init = tf.global_variables_initializer()\n",
    "sess.run(init)\n",
    "\n",
    "#for i in range(100):\n",
    "#    batch_xs, batch_ys = mnist.train.next_batch(100)\n",
    "#    sess.run(train_step, feed_dict={xs: batch_xs, ys: batch_ys, keep_prob: 0.5})\n",
    "#    if i % 50 == 0:\n",
    "#        print(compute_accuracy(\n",
    "#            mnist.test.images[:1000], mnist.test.labels[:1000]))\n",
    "\n",
    "for i in tqdm(range(epochs)):\n",
    "    # get batch \n",
    "    total_batch = int(np.floor(len(x_train) / batch_size)) # just drop out last few samples...\n",
    "        \n",
    "    train_loss_collector, train_acc_collector = [], []\n",
    "    for j in np.arange(total_batch):\n",
    "        batch_idx_start = j * batch_size\n",
    "        batch_idx_stop = (j+1) * batch_size\n",
    "\n",
    "        x_batch = x_train[batch_idx_start : batch_idx_stop]\n",
    "        y_batch = y_train[batch_idx_start : batch_idx_stop]\n",
    "            \n",
    "        this_loss, this_acc, _ = sess.run([loss, compute_acc, train_step], feed_dict = {xs: x_batch, ys: y_batch, keep_prob: 0.5})\n",
    "        train_loss_collector.append(this_loss)\n",
    "        train_acc_collector.append(this_acc)\n",
    "            \n",
    "        # do validation at the end of each epoch\n",
    "    valid_acc, valid_loss = sess.run([compute_acc, loss], feed_dict = {xs: x_valid, ys : y_valid, keep_prob: 0.5})\n",
    "    valid_loss_list.append(valid_loss)\n",
    "    valid_acc_list.append(valid_acc)\n",
    "    train_loss_list.append(np.mean(train_loss_collector))\n",
    "    train_acc_list.append(np.mean(train_acc_collector))\n",
    "\n",
    "    # at the end of each epoch, shuffle the data\n",
    "    x_train, y_train = shuffle(x_train, y_train)\n",
    "# At the end of the training, do testing set\n",
    "test_acc, test_loss = sess.run([compute_acc, loss], feed_dict = {xs: x_test, ys : y_test, keep_prob: 0.5})\n",
    "print('--- training done ---')\n",
    "print('testing accuracy: %.2f' % test_acc)\n",
    "#--------------------------------------plot---------------------------------------------\n",
    "print(\"loss\")\n",
    "plt.plot(np.arange(len(train_loss_list)), train_loss_list, 'b', label = 'train')\n",
    "plt.plot(np.arange(len(valid_loss_list)), valid_loss_list, 'r', label = 'valid')\n",
    "plt.legend()\n",
    "plt.show()\n",
    "\n",
    "print(\"accuracy\")\n",
    "plt.plot(np.arange(len(train_acc_list)), train_acc_list, 'b', label = 'train')\n",
    "plt.plot(np.arange(len(valid_acc_list)), valid_acc_list, 'r', label = 'valid')\n",
    "plt.legend(loc = 4)\n",
    "plt.show()"
   ]
  },
  {
   "cell_type": "code",
   "execution_count": null,
   "metadata": {},
   "outputs": [],
   "source": []
  }
 ],
 "metadata": {
  "kernelspec": {
   "display_name": "Python 3",
   "language": "python",
   "name": "python3"
  },
  "language_info": {
   "codemirror_mode": {
    "name": "ipython",
    "version": 3
   },
   "file_extension": ".py",
   "mimetype": "text/x-python",
   "name": "python",
   "nbconvert_exporter": "python",
   "pygments_lexer": "ipython3",
   "version": "3.6.5"
  }
 },
 "nbformat": 4,
 "nbformat_minor": 2
}
